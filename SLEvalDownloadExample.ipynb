{
  "nbformat": 4,
  "nbformat_minor": 0,
  "metadata": {
    "colab": {
      "name": "SLEvalDownloadExample.ipynb",
      "version": "0.3.2",
      "provenance": []
    },
    "kernelspec": {
      "name": "python3",
      "display_name": "Python 3"
    }
  },
  "cells": [
    {
      "metadata": {
        "id": "A1zId-GMwVqQ",
        "colab_type": "code",
        "colab": {
          "base_uri": "https://localhost:8080/",
          "height": 119
        },
        "outputId": "6c9b55ac-d613-45be-e10d-032cf2eace71"
      },
      "cell_type": "code",
      "source": [
        "!git clone https://github.com/aneesh-joshi/Similarity-Learning-Evaluation-Scripts.git"
      ],
      "execution_count": 1,
      "outputs": [
        {
          "output_type": "stream",
          "text": [
            "Cloning into 'Similarity-Learning-Evaluation-Scripts'...\n",
            "remote: Counting objects: 626, done.\u001b[K\n",
            "remote: Compressing objects: 100% (144/144), done.\u001b[K\n",
            "remote: Total 626 (delta 72), reused 157 (delta 44), pack-reused 432\u001b[K\n",
            "Receiving objects: 100% (626/626), 6.42 MiB | 15.84 MiB/s, done.\n",
            "Resolving deltas: 100% (301/301), done.\n"
          ],
          "name": "stdout"
        }
      ]
    },
    {
      "metadata": {
        "id": "XzLoa_XIwaHl",
        "colab_type": "code",
        "colab": {}
      },
      "cell_type": "code",
      "source": [
        "import os\n",
        "os.chdir('Similarity-Learning-Evaluation-Scripts/')"
      ],
      "execution_count": 0,
      "outputs": []
    },
    {
      "metadata": {
        "id": "2BKSHxilwg7F",
        "colab_type": "code",
        "colab": {
          "base_uri": "https://localhost:8080/",
          "height": 34
        },
        "outputId": "1eb33590-1b58-4bfd-95fe-8683365bc0e6"
      },
      "cell_type": "code",
      "source": [
        "os.chdir('data/')\n",
        "!ls"
      ],
      "execution_count": 7,
      "outputs": [
        {
          "output_type": "stream",
          "text": [
            "get_data.py\r\n"
          ],
          "name": "stdout"
        }
      ]
    },
    {
      "metadata": {
        "id": "01IIRuDjwreA",
        "colab_type": "code",
        "colab": {
          "base_uri": "https://localhost:8080/",
          "height": 340
        },
        "outputId": "96aedab5-9551-412d-e998-03711926e924"
      },
      "cell_type": "code",
      "source": [
        "!python get_data.py"
      ],
      "execution_count": 19,
      "outputs": [
        {
          "output_type": "stream",
          "text": [
            "2018-08-10 21:42:20,044 : MainThread : INFO : Downloading all files.\r\n",
            "2018-08-10 21:42:20,044 : MainThread : INFO : Downloading WikiQACorpus.zip\n",
            "2018-08-10 21:42:20,611 : MainThread : INFO : Download of WikiQACorpus.zip complete\n",
            "2018-08-10 21:42:20,612 : MainThread : INFO : Unzipping WikiQACorpus.zip\n",
            "2018-08-10 21:42:20,794 : MainThread : INFO : Unzip complete\n",
            "2018-08-10 21:42:20,795 : MainThread : INFO : Downloading snli_1.0.zip\n",
            "2018-08-10 21:42:30,431 : MainThread : INFO : Download of snli_1.0.zip complete\n",
            "2018-08-10 21:42:30,441 : MainThread : INFO : Unzipping snli_1.0.zip\n",
            "2018-08-10 21:42:36,837 : MainThread : INFO : Unzip complete\n",
            "2018-08-10 21:42:36,840 : MainThread : INFO : Downloading SICK.zip\n",
            "2018-08-10 21:42:38,417 : MainThread : INFO : Download of SICK.zip complete\n",
            "2018-08-10 21:42:38,417 : MainThread : INFO : Unzipping SICK.zip\n",
            "2018-08-10 21:42:38,433 : MainThread : INFO : Unzip complete\n",
            "2018-08-10 21:42:38,433 : MainThread : INFO : Downloading train-v1.1.json\n",
            "2018-08-10 21:42:42,626 : MainThread : INFO : Download of train-v1.1.json complete\n",
            "Cloning into 'insurance_qa_python'...\n",
            "remote: Counting objects: 18, done.\u001b[K\n",
            "remote: Total 18 (delta 0), reused 0 (delta 0), pack-reused 17\u001b[K\n",
            "Unpacking objects: 100% (18/18), done.\n"
          ],
          "name": "stdout"
        }
      ]
    },
    {
      "metadata": {
        "id": "huV-_U_LxBOK",
        "colab_type": "code",
        "colab": {
          "base_uri": "https://localhost:8080/",
          "height": 34
        },
        "outputId": "693fc503-2d2e-44ac-e2d0-c07e938e4878"
      },
      "cell_type": "code",
      "source": [
        "os.chdir('../misc_scripts/')\n",
        "!ls"
      ],
      "execution_count": 20,
      "outputs": [
        {
          "output_type": "stream",
          "text": [
            "get_data.py  get_trec.py  squad2QA.py  trec_eval\r\n"
          ],
          "name": "stdout"
        }
      ]
    },
    {
      "metadata": {
        "id": "GHJD0ZAUyw1C",
        "colab_type": "code",
        "colab": {
          "base_uri": "https://localhost:8080/",
          "height": 139
        },
        "outputId": "ab7ab4e2-46c7-4891-dcb4-92e75e8af2fb"
      },
      "cell_type": "code",
      "source": [
        "!python get_trec.py"
      ],
      "execution_count": 21,
      "outputs": [
        {
          "output_type": "stream",
          "text": [
            "Cloning into 'trec_eval'...\n",
            "remote: Counting objects: 421, done.\u001b[K\n",
            "remote: Total 421 (delta 0), reused 0 (delta 0), pack-reused 421\u001b[K\n",
            "Receiving objects: 100% (421/421), 391.14 KiB | 7.98 MiB/s, done.\n",
            "Resolving deltas: 100% (261/261), done.\n",
            "gcc -g -I.  -Wall -DVERSIONID=\\\"9.0.4\\\"  -o trec_eval trec_eval.c formats.c meas_init.c meas_acc.c meas_avg.c meas_print_single.c meas_print_final.c get_qrels.c get_trec_results.c get_prefs.c get_qrels_prefs.c get_qrels_jg.c form_res_rels.c form_res_rels_jg.c form_prefs_counts.c utility_pool.c get_zscores.c convert_zscores.c measures.c  m_map.c m_P.c m_num_q.c m_num_ret.c m_num_rel.c m_num_rel_ret.c m_gm_map.c m_Rprec.c m_recip_rank.c m_bpref.c m_iprec_at_recall.c m_recall.c m_Rprec_mult.c m_utility.c m_11pt_avg.c m_ndcg.c m_ndcg_cut.c m_Rndcg.c m_ndcg_rel.c m_binG.c m_G.c m_rel_P.c m_success.c m_infap.c m_map_cut.c m_gm_bpref.c m_runid.c m_relstring.c m_set_P.c m_set_recall.c m_set_rel_P.c m_set_map.c m_set_F.c m_num_nonrel_judged_ret.c m_prefs_num_prefs_poss.c m_prefs_num_prefs_ful.c m_prefs_num_prefs_ful_ret.c m_prefs_simp.c m_prefs_pair.c m_prefs_avgjg.c m_prefs_avgjg_Rnonrel.c m_prefs_simp_ret.c m_prefs_pair_ret.c m_prefs_avgjg_ret.c m_prefs_avgjg_Rnonrel_ret.c m_prefs_simp_imp.c m_prefs_pair_imp.c m_prefs_avgjg_imp.c m_map_avgjg.c m_Rprec_mult_avgjg.c m_P_avgjg.c m_yaap.c -lm\n"
          ],
          "name": "stdout"
        }
      ]
    },
    {
      "metadata": {
        "id": "zllgmx80yz76",
        "colab_type": "code",
        "colab": {
          "base_uri": "https://localhost:8080/",
          "height": 493
        },
        "outputId": "c2858bcd-4bc5-4a33-e8f7-6654b0d21dd6"
      },
      "cell_type": "code",
      "source": [
        "!ls trec_eval/"
      ],
      "execution_count": 23,
      "outputs": [
        {
          "output_type": "stream",
          "text": [
            "bpref_bug\t     m_infap.c\t\t\t  m_prefs_simp_imp.c\r\n",
            "CHANGELOG\t     m_iprec_at_recall.c\t  m_prefs_simp_ret.c\r\n",
            "common.h\t     m_map_avgjg.c\t\t  m_recall.c\r\n",
            "convert_zscores.c    m_map.c\t\t\t  m_recip_rank.c\r\n",
            "formats.c\t     m_map_cut.c\t\t  m_rel_P.c\r\n",
            "form_prefs_counts.c  m_ndcg.c\t\t\t  m_relstring.c\r\n",
            "form_res_rels.c      m_ndcg_cut.c\t\t  m_Rndcg.c\r\n",
            "form_res_rels_jg.c   m_ndcg_p.c\t\t\t  m_Rprec.c\r\n",
            "functions.h\t     m_ndcg_rel.c\t\t  m_Rprec_mult_avgjg.c\r\n",
            "get_prefs.c\t     m_num_nonrel_judged_ret.c\t  m_Rprec_mult.c\r\n",
            "get_qrels.c\t     m_num_q.c\t\t\t  m_runid.c\r\n",
            "get_qrels_jg.c\t     m_num_rel.c\t\t  m_set_F.c\r\n",
            "get_qrels_prefs.c    m_num_rel_ret.c\t\t  m_set_map.c\r\n",
            "get_trec_results.c   m_num_ret.c\t\t  m_set_P.c\r\n",
            "get_zscores.c\t     m_P_avgjg.c\t\t  m_set_recall.c\r\n",
            "m_11pt_avg.c\t     m_P.c\t\t\t  m_set_rel_P.c\r\n",
            "Makefile\t     m_prefs_avgjg.c\t\t  m_success.c\r\n",
            "m_binG.c\t     m_prefs_avgjg_imp.c\t  m_utility.c\r\n",
            "m_bpref.c\t     m_prefs_avgjg_ret.c\t  m_yaap.c\r\n",
            "meas_acc.c\t     m_prefs_avgjg_Rnonrel.c\t  README\r\n",
            "meas_avg.c\t     m_prefs_avgjg_Rnonrel_ret.c  README.windows.md\r\n",
            "meas_init.c\t     m_prefs_num_prefs_ful.c\t  sysfunc.h\r\n",
            "meas_print_final.c   m_prefs_num_prefs_ful_ret.c  test\r\n",
            "meas_print_single.c  m_prefs_num_prefs_poss.c\t  trec_eval\r\n",
            "measures.c\t     m_prefs_pair.c\t\t  trec_eval.c\r\n",
            "m_G.c\t\t     m_prefs_pair_imp.c\t\t  trec_eval.h\r\n",
            "m_gm_bpref.c\t     m_prefs_pair_ret.c\t\t  trec_format.h\r\n",
            "m_gm_map.c\t     m_prefs_simp.c\t\t  utility_pool.c\r\n"
          ],
          "name": "stdout"
        }
      ]
    },
    {
      "metadata": {
        "id": "r5dMnm-zznmi",
        "colab_type": "code",
        "colab": {
          "base_uri": "https://localhost:8080/",
          "height": 51
        },
        "outputId": "e5b14fb9-a696-4746-80fd-070f1292c4df"
      },
      "cell_type": "code",
      "source": [
        "os.chdir('..')\n",
        "!ls"
      ],
      "execution_count": 38,
      "outputs": [
        {
          "output_type": "stream",
          "text": [
            "data\t      evaluation_scripts  _images\told_stuff  Report.md  sl_eval\r\n",
            "data_readers  final_report.md\t  misc_scripts\tReadMe.md  setup.py\r\n"
          ],
          "name": "stdout"
        }
      ]
    },
    {
      "metadata": {
        "id": "sKl3FYWV1_Bm",
        "colab_type": "code",
        "colab": {
          "base_uri": "https://localhost:8080/",
          "height": 734
        },
        "outputId": "d0b5a7fd-572b-4690-92cf-0927db208d0c"
      },
      "cell_type": "code",
      "source": [
        "!python setup.py"
      ],
      "execution_count": 39,
      "outputs": [
        {
          "output_type": "stream",
          "text": [
            "Collecting gensim\n",
            "  Using cached https://files.pythonhosted.org/packages/86/f3/37504f07651330ddfdefa631ca5246974a60d0908216539efda842fd080f/gensim-3.5.0-cp36-cp36m-manylinux1_x86_64.whl\n",
            "Requirement already satisfied: scipy>=0.18.1 in /usr/local/lib/python3.6/dist-packages (from gensim) (0.19.1)\n",
            "Requirement already satisfied: smart-open>=1.2.1 in /usr/local/lib/python3.6/dist-packages (from gensim) (1.6.0)\n",
            "Requirement already satisfied: numpy>=1.11.3 in /usr/local/lib/python3.6/dist-packages (from gensim) (1.14.5)\n",
            "Requirement already satisfied: six>=1.5.0 in /usr/local/lib/python3.6/dist-packages (from gensim) (1.11.0)\n",
            "Requirement already satisfied: boto3 in /usr/local/lib/python3.6/dist-packages (from smart-open>=1.2.1->gensim) (1.7.75)\n",
            "Requirement already satisfied: boto>=2.32 in /usr/local/lib/python3.6/dist-packages (from smart-open>=1.2.1->gensim) (2.49.0)\n",
            "Requirement already satisfied: bz2file in /usr/local/lib/python3.6/dist-packages (from smart-open>=1.2.1->gensim) (0.98)\n",
            "Requirement already satisfied: requests in /usr/local/lib/python3.6/dist-packages (from smart-open>=1.2.1->gensim) (2.18.4)\n",
            "Requirement already satisfied: botocore<1.11.0,>=1.10.75 in /usr/local/lib/python3.6/dist-packages (from boto3->smart-open>=1.2.1->gensim) (1.10.75)\n",
            "Requirement already satisfied: s3transfer<0.2.0,>=0.1.10 in /usr/local/lib/python3.6/dist-packages (from boto3->smart-open>=1.2.1->gensim) (0.1.13)\n",
            "Requirement already satisfied: jmespath<1.0.0,>=0.7.1 in /usr/local/lib/python3.6/dist-packages (from boto3->smart-open>=1.2.1->gensim) (0.9.3)\n",
            "Requirement already satisfied: chardet<3.1.0,>=3.0.2 in /usr/local/lib/python3.6/dist-packages (from requests->smart-open>=1.2.1->gensim) (3.0.4)\n",
            "Requirement already satisfied: certifi>=2017.4.17 in /usr/local/lib/python3.6/dist-packages (from requests->smart-open>=1.2.1->gensim) (2018.4.16)\n",
            "Requirement already satisfied: idna<2.7,>=2.5 in /usr/local/lib/python3.6/dist-packages (from requests->smart-open>=1.2.1->gensim) (2.6)\n",
            "Requirement already satisfied: urllib3<1.23,>=1.21.1 in /usr/local/lib/python3.6/dist-packages (from requests->smart-open>=1.2.1->gensim) (1.22)\n",
            "Requirement already satisfied: python-dateutil<3.0.0,>=2.1; python_version >= \"2.7\" in /usr/local/lib/python3.6/dist-packages (from botocore<1.11.0,>=1.10.75->boto3->smart-open>=1.2.1->gensim) (2.5.3)\n",
            "Requirement already satisfied: docutils>=0.10 in /usr/local/lib/python3.6/dist-packages (from botocore<1.11.0,>=1.10.75->boto3->smart-open>=1.2.1->gensim) (0.14)\n",
            "Installing collected packages: gensim\n",
            "Successfully installed gensim-3.5.0\n",
            "Collecting nltk\n",
            "\u001b[?25l  Downloading https://files.pythonhosted.org/packages/50/09/3b1755d528ad9156ee7243d52aa5cd2b809ef053a0f31b53d92853dd653a/nltk-3.3.0.zip (1.4MB)\n",
            "\u001b[K    100% |████████████████████████████████| 1.4MB 5.7MB/s \n",
            "\u001b[?25hRequirement already satisfied: six in /usr/local/lib/python3.6/dist-packages (from nltk) (1.11.0)\n",
            "Building wheels for collected packages: nltk\n",
            "  Running setup.py bdist_wheel for nltk ... \u001b[?25l-\b \b\\\b \b|\b \b/\b \b-\b \b\\\b \bdone\n",
            "\u001b[?25h  Stored in directory: /content/.cache/pip/wheels/d1/ab/40/3bceea46922767e42986aef7606a600538ca80de6062dc266c\n",
            "Successfully built nltk\n",
            "Installing collected packages: nltk\n",
            "Successfully installed nltk-3.3\n",
            "Collecting overrides\n",
            "  Downloading https://files.pythonhosted.org/packages/de/55/3100c6d14c1ed177492fcf8f07c4a7d2d6c996c0a7fc6a9a0a41308e7eec/overrides-1.9.tar.gz\n",
            "Building wheels for collected packages: overrides\n",
            "  Running setup.py bdist_wheel for overrides ... \u001b[?25l-\b \bdone\n",
            "\u001b[?25h  Stored in directory: /content/.cache/pip/wheels/8d/52/86/e5a83b1797e7d263b458d2334edd2704c78508b3eea9323718\n",
            "Successfully built overrides\n",
            "Installing collected packages: overrides\n",
            "Successfully installed overrides-1.9\n",
            "[nltk_data] Downloading package punkt to /content/nltk_data...\n",
            "[nltk_data]   Package punkt is already up-to-date!\n"
          ],
          "name": "stdout"
        }
      ]
    },
    {
      "metadata": {
        "id": "DQr-MvtWzDCF",
        "colab_type": "code",
        "colab": {
          "base_uri": "https://localhost:8080/",
          "height": 34
        },
        "outputId": "55ce9ee6-d8a6-4b4d-ea04-98f4736bf066"
      },
      "cell_type": "code",
      "source": [
        "!python squad2QA.py --squad_path ../data/train-v1.1.json"
      ],
      "execution_count": 32,
      "outputs": [
        {
          "output_type": "stream",
          "text": [
            "write complete. File saved as ../data/SQUAD-T-QA.tsv\r\n"
          ],
          "name": "stdout"
        }
      ]
    }
  ]
}